{
 "cells": [
  {
   "cell_type": "markdown",
   "metadata": {
    "id": "Kj_c4RdlbySz"
   },
   "source": [
    "<h1>Atividade 02 - melhorar o desempenho de RP em conjunto de dados existentes</h1>\n",
    "<p>A atividade 02 visa trabalhar com um conjunto de dados pré-construído, onde as opções que o desenvolvedor tem, são de aplicar as técnicas de pré-processamento abaixo relacionadas:</p>\n",
    "<ul><li>Seleção</li>\n",
    "<li>Limpeza</li>\n",
    "<li>Codificação</li>\n",
    "<li>Enriquecimento</li>\n",
    "<li>Normalização</li>\n",
    "<li>Construção de Atributos</li>\n",
    "<li>Correção de Prevalência</li>\n",
    "<li>Partição do Conjunto de Dados</li>\n",
    "</ul>\n",
    "<p>Busque uma base de dados na UCI Machine Learning que seja indicada para problemas de classificação. (<a target=\"_blank\" href=\"https://archive.ics.uci.edu/datasets\">https://archive.ics.uci.edu/datasets</a>)</p>\n",
    "<p>Para esse exemplo, vou usar a base de qualidade de vinhos (https://archive.ics.uci.edu/dataset/186/wine+quality)</p>\n"
   ]
  },
  {
   "cell_type": "markdown",
   "metadata": {
    "id": "n83lcKbzgBnE"
   },
   "source": [
    "Baixando o dataset direto do site da UCI.\n"
   ]
  },
  {
   "cell_type": "code",
   "execution_count": 123,
   "metadata": {
    "colab": {
     "base_uri": "https://localhost:8080/"
    },
    "id": "IrWY8dFDbuvO",
    "outputId": "93251ce6-fc80-4150-f1d9-f4c17e6944fb"
   },
   "outputs": [
    {
     "name": "stdout",
     "output_type": "stream",
     "text": [
      "   fixed acidity  volatile acidity  citric acid  residual sugar  chlorides  \\\n",
      "0            7.0              0.27         0.36            20.7      0.045   \n",
      "1            6.3              0.30         0.34             1.6      0.049   \n",
      "2            8.1              0.28         0.40             6.9      0.050   \n",
      "3            7.2              0.23         0.32             8.5      0.058   \n",
      "4            7.2              0.23         0.32             8.5      0.058   \n",
      "\n",
      "   free sulfur dioxide  total sulfur dioxide  density    pH  sulphates  \\\n",
      "0                 45.0                 170.0   1.0010  3.00       0.45   \n",
      "1                 14.0                 132.0   0.9940  3.30       0.49   \n",
      "2                 30.0                  97.0   0.9951  3.26       0.44   \n",
      "3                 47.0                 186.0   0.9956  3.19       0.40   \n",
      "4                 47.0                 186.0   0.9956  3.19       0.40   \n",
      "\n",
      "   alcohol  quality  \n",
      "0      8.8        6  \n",
      "1      9.5        6  \n",
      "2     10.1        6  \n",
      "3      9.9        6  \n",
      "4      9.9        6  \n"
     ]
    },
    {
     "data": {
      "text/html": [
       "<div>\n",
       "<style scoped>\n",
       "    .dataframe tbody tr th:only-of-type {\n",
       "        vertical-align: middle;\n",
       "    }\n",
       "\n",
       "    .dataframe tbody tr th {\n",
       "        vertical-align: top;\n",
       "    }\n",
       "\n",
       "    .dataframe thead th {\n",
       "        text-align: right;\n",
       "    }\n",
       "</style>\n",
       "<table border=\"1\" class=\"dataframe\">\n",
       "  <thead>\n",
       "    <tr style=\"text-align: right;\">\n",
       "      <th></th>\n",
       "      <th>fixed acidity</th>\n",
       "      <th>volatile acidity</th>\n",
       "      <th>citric acid</th>\n",
       "      <th>residual sugar</th>\n",
       "      <th>chlorides</th>\n",
       "      <th>free sulfur dioxide</th>\n",
       "      <th>total sulfur dioxide</th>\n",
       "      <th>density</th>\n",
       "      <th>pH</th>\n",
       "      <th>sulphates</th>\n",
       "      <th>alcohol</th>\n",
       "      <th>quality</th>\n",
       "    </tr>\n",
       "  </thead>\n",
       "  <tbody>\n",
       "    <tr>\n",
       "      <th>count</th>\n",
       "      <td>4898.000000</td>\n",
       "      <td>4898.000000</td>\n",
       "      <td>4898.000000</td>\n",
       "      <td>4898.000000</td>\n",
       "      <td>4898.000000</td>\n",
       "      <td>4898.000000</td>\n",
       "      <td>4898.000000</td>\n",
       "      <td>4898.000000</td>\n",
       "      <td>4898.000000</td>\n",
       "      <td>4898.000000</td>\n",
       "      <td>4898.000000</td>\n",
       "      <td>4898.000000</td>\n",
       "    </tr>\n",
       "    <tr>\n",
       "      <th>mean</th>\n",
       "      <td>6.854788</td>\n",
       "      <td>0.278241</td>\n",
       "      <td>0.334192</td>\n",
       "      <td>6.391415</td>\n",
       "      <td>0.045772</td>\n",
       "      <td>35.308085</td>\n",
       "      <td>138.360657</td>\n",
       "      <td>0.994027</td>\n",
       "      <td>3.188267</td>\n",
       "      <td>0.489847</td>\n",
       "      <td>10.514267</td>\n",
       "      <td>5.877909</td>\n",
       "    </tr>\n",
       "    <tr>\n",
       "      <th>std</th>\n",
       "      <td>0.843868</td>\n",
       "      <td>0.100795</td>\n",
       "      <td>0.121020</td>\n",
       "      <td>5.072058</td>\n",
       "      <td>0.021848</td>\n",
       "      <td>17.007137</td>\n",
       "      <td>42.498065</td>\n",
       "      <td>0.002991</td>\n",
       "      <td>0.151001</td>\n",
       "      <td>0.114126</td>\n",
       "      <td>1.230621</td>\n",
       "      <td>0.885639</td>\n",
       "    </tr>\n",
       "    <tr>\n",
       "      <th>min</th>\n",
       "      <td>3.800000</td>\n",
       "      <td>0.080000</td>\n",
       "      <td>0.000000</td>\n",
       "      <td>0.600000</td>\n",
       "      <td>0.009000</td>\n",
       "      <td>2.000000</td>\n",
       "      <td>9.000000</td>\n",
       "      <td>0.987110</td>\n",
       "      <td>2.720000</td>\n",
       "      <td>0.220000</td>\n",
       "      <td>8.000000</td>\n",
       "      <td>3.000000</td>\n",
       "    </tr>\n",
       "    <tr>\n",
       "      <th>25%</th>\n",
       "      <td>6.300000</td>\n",
       "      <td>0.210000</td>\n",
       "      <td>0.270000</td>\n",
       "      <td>1.700000</td>\n",
       "      <td>0.036000</td>\n",
       "      <td>23.000000</td>\n",
       "      <td>108.000000</td>\n",
       "      <td>0.991723</td>\n",
       "      <td>3.090000</td>\n",
       "      <td>0.410000</td>\n",
       "      <td>9.500000</td>\n",
       "      <td>5.000000</td>\n",
       "    </tr>\n",
       "    <tr>\n",
       "      <th>50%</th>\n",
       "      <td>6.800000</td>\n",
       "      <td>0.260000</td>\n",
       "      <td>0.320000</td>\n",
       "      <td>5.200000</td>\n",
       "      <td>0.043000</td>\n",
       "      <td>34.000000</td>\n",
       "      <td>134.000000</td>\n",
       "      <td>0.993740</td>\n",
       "      <td>3.180000</td>\n",
       "      <td>0.470000</td>\n",
       "      <td>10.400000</td>\n",
       "      <td>6.000000</td>\n",
       "    </tr>\n",
       "    <tr>\n",
       "      <th>75%</th>\n",
       "      <td>7.300000</td>\n",
       "      <td>0.320000</td>\n",
       "      <td>0.390000</td>\n",
       "      <td>9.900000</td>\n",
       "      <td>0.050000</td>\n",
       "      <td>46.000000</td>\n",
       "      <td>167.000000</td>\n",
       "      <td>0.996100</td>\n",
       "      <td>3.280000</td>\n",
       "      <td>0.550000</td>\n",
       "      <td>11.400000</td>\n",
       "      <td>6.000000</td>\n",
       "    </tr>\n",
       "    <tr>\n",
       "      <th>max</th>\n",
       "      <td>14.200000</td>\n",
       "      <td>1.100000</td>\n",
       "      <td>1.660000</td>\n",
       "      <td>65.800000</td>\n",
       "      <td>0.346000</td>\n",
       "      <td>289.000000</td>\n",
       "      <td>440.000000</td>\n",
       "      <td>1.038980</td>\n",
       "      <td>3.820000</td>\n",
       "      <td>1.080000</td>\n",
       "      <td>14.200000</td>\n",
       "      <td>9.000000</td>\n",
       "    </tr>\n",
       "  </tbody>\n",
       "</table>\n",
       "</div>"
      ],
      "text/plain": [
       "       fixed acidity  volatile acidity  citric acid  residual sugar  \\\n",
       "count    4898.000000       4898.000000  4898.000000     4898.000000   \n",
       "mean        6.854788          0.278241     0.334192        6.391415   \n",
       "std         0.843868          0.100795     0.121020        5.072058   \n",
       "min         3.800000          0.080000     0.000000        0.600000   \n",
       "25%         6.300000          0.210000     0.270000        1.700000   \n",
       "50%         6.800000          0.260000     0.320000        5.200000   \n",
       "75%         7.300000          0.320000     0.390000        9.900000   \n",
       "max        14.200000          1.100000     1.660000       65.800000   \n",
       "\n",
       "         chlorides  free sulfur dioxide  total sulfur dioxide      density  \\\n",
       "count  4898.000000          4898.000000           4898.000000  4898.000000   \n",
       "mean      0.045772            35.308085            138.360657     0.994027   \n",
       "std       0.021848            17.007137             42.498065     0.002991   \n",
       "min       0.009000             2.000000              9.000000     0.987110   \n",
       "25%       0.036000            23.000000            108.000000     0.991723   \n",
       "50%       0.043000            34.000000            134.000000     0.993740   \n",
       "75%       0.050000            46.000000            167.000000     0.996100   \n",
       "max       0.346000           289.000000            440.000000     1.038980   \n",
       "\n",
       "                pH    sulphates      alcohol      quality  \n",
       "count  4898.000000  4898.000000  4898.000000  4898.000000  \n",
       "mean      3.188267     0.489847    10.514267     5.877909  \n",
       "std       0.151001     0.114126     1.230621     0.885639  \n",
       "min       2.720000     0.220000     8.000000     3.000000  \n",
       "25%       3.090000     0.410000     9.500000     5.000000  \n",
       "50%       3.180000     0.470000    10.400000     6.000000  \n",
       "75%       3.280000     0.550000    11.400000     6.000000  \n",
       "max       3.820000     1.080000    14.200000     9.000000  "
      ]
     },
     "execution_count": 123,
     "metadata": {},
     "output_type": "execute_result"
    }
   ],
   "source": [
    "#\n",
    "# base de dados disponível na UCI Machine Learning - https://archive.ics.uci.edu/dataset/186/wine+quality\n",
    "\n",
    "import requests, zipfile, io\n",
    "from io import BytesIO\n",
    "import numpy as np\n",
    "import pandas as pd\n",
    "\n",
    "r = requests.get('https://archive.ics.uci.edu/static/public/186/wine+quality.zip')\n",
    "z = zipfile.ZipFile(io.BytesIO(r.content))\n",
    "z.namelist()\n",
    "dadosfp = z.open('winequality-white.csv')\n",
    "dados = dadosfp.read()\n",
    "winequality_df = pd.read_csv(io.BytesIO(dados), sep=';')\n",
    "print(winequality_df.head())\n",
    "\n",
    "winequality_df.describe()"
   ]
  },
  {
   "cell_type": "markdown",
   "metadata": {
    "id": "QfN629xbuX-_"
   },
   "source": [
    "<h2>Hora de realizar os tratamentos<h2>\n",
    "<p>no exemplo, iremos normalizar as colunas, remover a coluna de identificação e separar a classe dos atributos.</p>"
   ]
  },
  {
   "cell_type": "code",
   "execution_count": 124,
   "metadata": {},
   "outputs": [
    {
     "data": {
      "text/plain": [
       "fixed acidity           float64\n",
       "volatile acidity        float64\n",
       "citric acid             float64\n",
       "residual sugar          float64\n",
       "chlorides               float64\n",
       "free sulfur dioxide     float64\n",
       "total sulfur dioxide    float64\n",
       "density                 float64\n",
       "pH                      float64\n",
       "sulphates               float64\n",
       "alcohol                 float64\n",
       "quality                   int64\n",
       "dtype: object"
      ]
     },
     "execution_count": 124,
     "metadata": {},
     "output_type": "execute_result"
    }
   ],
   "source": [
    "# Tipos das colunas\n",
    "winequality_df.dtypes"
   ]
  },
  {
   "cell_type": "code",
   "execution_count": 125,
   "metadata": {},
   "outputs": [
    {
     "data": {
      "text/plain": [
       "fixed acidity           0\n",
       "volatile acidity        0\n",
       "citric acid             0\n",
       "residual sugar          0\n",
       "chlorides               0\n",
       "free sulfur dioxide     0\n",
       "total sulfur dioxide    0\n",
       "density                 0\n",
       "pH                      0\n",
       "sulphates               0\n",
       "alcohol                 0\n",
       "quality                 0\n",
       "dtype: int64"
      ]
     },
     "execution_count": 125,
     "metadata": {},
     "output_type": "execute_result"
    }
   ],
   "source": [
    "# Verificação de dados ausentes\n",
    "winequality_df.isnull().sum()"
   ]
  },
  {
   "cell_type": "code",
   "execution_count": 126,
   "metadata": {},
   "outputs": [
    {
     "data": {
      "text/plain": [
       "fixed acidity            68\n",
       "volatile acidity        125\n",
       "citric acid              87\n",
       "residual sugar          310\n",
       "chlorides               160\n",
       "free sulfur dioxide     132\n",
       "total sulfur dioxide    251\n",
       "density                 890\n",
       "pH                      103\n",
       "sulphates                79\n",
       "alcohol                 103\n",
       "quality                   7\n",
       "dtype: int64"
      ]
     },
     "execution_count": 126,
     "metadata": {},
     "output_type": "execute_result"
    }
   ],
   "source": [
    "# Verificação de colunas com dados únicos\n",
    "winequality_df.nunique()"
   ]
  },
  {
   "cell_type": "code",
   "execution_count": 127,
   "metadata": {},
   "outputs": [
    {
     "name": "stdout",
     "output_type": "stream",
     "text": [
      "Número de linhas duplicadas:  937\n",
      "Total de padrões:  4898\n",
      "Total de padrões após remoção de duplicados:  3961\n"
     ]
    }
   ],
   "source": [
    "# Verificação e remoção de duplicados\n",
    "print(\"Número de linhas duplicadas: \", winequality_df.duplicated().sum())\n",
    "\n",
    "winequality_df_no_dups = winequality_df.drop_duplicates()\n",
    "print(\"Total de padrões: \", winequality_df.shape[0])\n",
    "print(\"Total de padrões após remoção de duplicados: \", winequality_df_no_dups.shape[0])"
   ]
  },
  {
   "cell_type": "code",
   "execution_count": 128,
   "metadata": {},
   "outputs": [],
   "source": [
    "# verificação de valores com baixa representação ou ocorrência\n",
    "num_linhas = X.shape[0]\n",
    "cols = []\n",
    "for c in X.columns:\n",
    "    num_unicos = len( X[c].unique() )\n",
    "    percentage = float(num_unicos) / num_linhas * 100\n",
    "    if percentage < 1:\n",
    "        print('%s, %d, %.1f%%' % (c, num_unicos, percentage))\n",
    "        cols.append(c)\n",
    "\n",
    "for i in range(0,len(cols)-1):\n",
    "    cc = cols[i]\n",
    "    print(cc)\n",
    "    df1 = oil1[ [cc,'target'] ].value_counts()\n",
    "    print( df1.unstack(level=-1) )"
   ]
  },
  {
   "cell_type": "code",
   "execution_count": 129,
   "metadata": {},
   "outputs": [
    {
     "data": {
      "image/png": "[encoded data removed]",
      "text/plain": [
       "<Figure size 1500x1000 with 16 Axes>"
      ]
     },
     "metadata": {},
     "output_type": "display_data"
    },
    {
     "name": "stdout",
     "output_type": "stream",
     "text": [
      "Total de linhas que contem pelo menos um outlier: 341\n",
      "Total de padrões com outilers:  3961\n",
      "Total de padrões após remoção de outilers:  3620\n"
     ]
    }
   ],
   "source": [
    "from scipy.stats import zscore\n",
    "\n",
    "# Buscaa por outliers\n",
    "\n",
    "winequality_df_no_dups.plot(kind='box', subplots=True, layout=(4, 4), figsize=(15, 10), sharex=False, sharey=False)\n",
    "plt.tight_layout()\n",
    "plt.show()\n",
    "\n",
    "z_scores = winequality_df_no_dups.select_dtypes(include='number').apply(zscore)\n",
    "outliers = (abs(z_scores) > 3)  # Z-score > 3 considered outlier\n",
    "\n",
    "print(\"Total de linhas que contem pelo menos um outlier:\", np.sum(np.any(outliers, axis=1)))\n",
    "\n",
    "winequality_df_no_dups_no_outliers = winequality_df_no_dups[(~outliers).all(axis=1)]\n",
    "print(\"Total de padrões com outilers: \", winequality_df_no_dups.shape[0])\n",
    "print(\"Total de padrões após remoção de outilers: \", winequality_df_no_dups_no_outliers.shape[0])"
   ]
  },
  {
   "cell_type": "code",
   "execution_count": 130,
   "metadata": {
    "colab": {
     "base_uri": "https://localhost:8080/"
    },
    "id": "OLrGqcAMulAE",
    "outputId": "0512a5ec-e5a5-4ee5-8d10-ca787cb395c4"
   },
   "outputs": [
    {
     "name": "stdout",
     "output_type": "stream",
     "text": [
      "   fixed acidity  volatile acidity  citric acid  residual sugar  chlorides  \\\n",
      "1            6.3              0.30         0.34             1.6      0.049   \n",
      "2            8.1              0.28         0.40             6.9      0.050   \n",
      "3            7.2              0.23         0.32             8.5      0.058   \n",
      "6            6.2              0.32         0.16             7.0      0.045   \n",
      "9            8.1              0.22         0.43             1.5      0.044   \n",
      "\n",
      "   free sulfur dioxide  total sulfur dioxide  density    pH  sulphates  \\\n",
      "1                 14.0                 132.0   0.9940  3.30       0.49   \n",
      "2                 30.0                  97.0   0.9951  3.26       0.44   \n",
      "3                 47.0                 186.0   0.9956  3.19       0.40   \n",
      "6                 30.0                 136.0   0.9949  3.18       0.47   \n",
      "9                 28.0                 129.0   0.9938  3.22       0.45   \n",
      "\n",
      "   alcohol  \n",
      "1      9.5  \n",
      "2     10.1  \n",
      "3      9.9  \n",
      "6      9.6  \n",
      "9     11.0  \n",
      "[6 5 7 8 4]\n"
     ]
    }
   ],
   "source": [
    "X = winequality_df_no_dups_no_outliers.drop('quality', axis=1)\n",
    "print(X.head())\n",
    "Y = winequality_df_no_dups_no_outliers['quality']\n",
    "Y_orig = winequality_df['quality']\n",
    "print(Y.unique())"
   ]
  },
  {
   "cell_type": "markdown",
   "metadata": {
    "id": "W9uS7b_5CxTR"
   },
   "source": [
    "Na próxima seção que deverão ser realizada as tentativas de tratamento de dados, visando a melhoria no desempenho do classificador (SVM)."
   ]
  },
  {
   "cell_type": "code",
   "execution_count": 131,
   "metadata": {
    "colab": {
     "base_uri": "https://localhost:8080/"
    },
    "id": "-Tp4WMMPyuO2",
    "outputId": "bdcf62ed-c85e-4ac5-ca20-f1b92614ae33"
   },
   "outputs": [
    {
     "name": "stdout",
     "output_type": "stream",
     "text": [
      "   fixed acidity  volatile acidity  citric acid  residual sugar  chlorides  \\\n",
      "0            7.0              0.27         0.36            20.7      0.045   \n",
      "1            6.3              0.30         0.34             1.6      0.049   \n",
      "2            8.1              0.28         0.40             6.9      0.050   \n",
      "3            7.2              0.23         0.32             8.5      0.058   \n",
      "4            7.2              0.23         0.32             8.5      0.058   \n",
      "\n",
      "   free sulfur dioxide  total sulfur dioxide  density    pH  sulphates  \\\n",
      "0                 45.0                 170.0   1.0010  3.00       0.45   \n",
      "1                 14.0                 132.0   0.9940  3.30       0.49   \n",
      "2                 30.0                  97.0   0.9951  3.26       0.44   \n",
      "3                 47.0                 186.0   0.9956  3.19       0.40   \n",
      "4                 47.0                 186.0   0.9956  3.19       0.40   \n",
      "\n",
      "   alcohol  \n",
      "0      8.8  \n",
      "1      9.5  \n",
      "2     10.1  \n",
      "3      9.9  \n",
      "4      9.9  \n",
      "[6 5 7 8 4 3 9]\n",
      "   fixed acidity  volatile acidity  citric acid  residual sugar  chlorides  \\\n",
      "0            7.0              0.27         0.36            20.7      0.045   \n",
      "1            6.3              0.30         0.34             1.6      0.049   \n",
      "2            8.1              0.28         0.40             6.9      0.050   \n",
      "3            7.2              0.23         0.32             8.5      0.058   \n",
      "4            7.2              0.23         0.32             8.5      0.058   \n",
      "\n",
      "   free sulfur dioxide  total sulfur dioxide  density    pH  sulphates  \\\n",
      "0                 45.0                 170.0   1.0010  3.00       0.45   \n",
      "1                 14.0                 132.0   0.9940  3.30       0.49   \n",
      "2                 30.0                  97.0   0.9951  3.26       0.44   \n",
      "3                 47.0                 186.0   0.9956  3.19       0.40   \n",
      "4                 47.0                 186.0   0.9956  3.19       0.40   \n",
      "\n",
      "   alcohol  \n",
      "0      8.8  \n",
      "1      9.5  \n",
      "2     10.1  \n",
      "3      9.9  \n",
      "4      9.9  \n",
      "     0         1         2         3         4         5         6         7   \\\n",
      "0  0.38  0.431373  0.485714  0.050505  0.359223  0.142857  0.464435  0.463973   \n",
      "1  0.74  0.392157  0.571429  0.318182  0.368932  0.333333  0.317992  0.538047   \n",
      "2  0.56  0.294118  0.457143  0.398990  0.446602  0.535714  0.690377  0.571717   \n",
      "3  0.36  0.470588  0.228571  0.323232  0.320388  0.333333  0.481172  0.524579   \n",
      "4  0.74  0.274510  0.614286  0.045455  0.310680  0.309524  0.451883  0.450505   \n",
      "\n",
      "         8         9         10  \n",
      "0  0.593023  0.442623  0.189655  \n",
      "1  0.546512  0.360656  0.293103  \n",
      "2  0.465116  0.295082  0.258621  \n",
      "3  0.453488  0.409836  0.206897  \n",
      "4  0.500000  0.377049  0.448276  \n"
     ]
    }
   ],
   "source": [
    "from sklearn.preprocessing import scale\n",
    "from sklearn.preprocessing import minmax_scale\n",
    "import pandas as pd\n",
    "\n",
    "X_orig = winequality_df.drop('quality', axis=1)\n",
    "print(X_orig.head())\n",
    "\n",
    "print(Y_orig.unique() )\n",
    "\n",
    "# normalização min-max\n",
    "X = pd.DataFrame( minmax_scale(X) )\n",
    "\n",
    "print(X_orig.head())\n",
    "print(X.head())"
   ]
  },
  {
   "cell_type": "code",
   "execution_count": 132,
   "metadata": {},
   "outputs": [
    {
     "data": {
      "image/png": "[encoded data removed]",
      "text/plain": [
       "<Figure size 4000x2000 with 1 Axes>"
      ]
     },
     "metadata": {},
     "output_type": "display_data"
    }
   ],
   "source": [
    "import pandas as pd\n",
    "import seaborn as sns\n",
    "from sklearn.preprocessing import StandardScaler, normalize, MinMaxScaler\n",
    "import scipy.stats as scs\n",
    "import matplotlib.pyplot as plt\n",
    "\n",
    "df_data_normalized = X.copy()\n",
    "df_data_normalized = df_data_normalized.rename(columns={10: 'alcohol'})\n",
    "plt.figure(figsize = (40,20))\n",
    "for idx, col in enumerate(list(['alcohol'])):\n",
    "    plt.subplot(5,3,idx + 1)\n",
    "    sns.kdeplot(winequality_df[col], color = 'g',label = f\"Input data(Unscaled):{col}\")\n",
    "    sns.kdeplot(df_data_normalized[col],color = 'b', label = f\"Input data(Normalized):{col}\" )    \n",
    "    plt.legend()\n",
    "plt.show()"
   ]
  },
  {
   "cell_type": "markdown",
   "metadata": {
    "id": "yBZUGabt2eZv"
   },
   "source": [
    "A próxima seção trata da construção do modelo, dos testes e das métricas da matriz de confusão."
   ]
  },
  {
   "cell_type": "code",
   "execution_count": 133,
   "metadata": {},
   "outputs": [
    {
     "name": "stdout",
     "output_type": "stream",
     "text": [
      "Train: quality\n",
      "6    1341\n",
      "5     881\n",
      "7     516\n",
      "4     115\n",
      "8      98\n",
      "3      15\n",
      "9       4\n",
      "Name: count, dtype: int64\n",
      "Test: quality\n",
      "6    447\n",
      "5    294\n",
      "7    173\n",
      "4     38\n",
      "8     33\n",
      "3      5\n",
      "9      1\n",
      "Name: count, dtype: int64\n"
     ]
    }
   ],
   "source": [
    "print(\"Train:\", y_train.value_counts())\n",
    "print(\"Test:\", y_test.value_counts())"
   ]
  },
  {
   "cell_type": "code",
   "execution_count": 134,
   "metadata": {},
   "outputs": [
    {
     "name": "stdout",
     "output_type": "stream",
     "text": [
      "(4898, 11)\n",
      "(4898,)\n"
     ]
    }
   ],
   "source": [
    "print(X_orig.shape)\n",
    "print(Y_orig.shape)"
   ]
  },
  {
   "cell_type": "code",
   "execution_count": 135,
   "metadata": {
    "id": "hDFNHGyF20UV"
   },
   "outputs": [],
   "source": [
    "from sklearn.model_selection import train_test_split\n",
    "import numpy as np\n",
    "\n",
    "# com os dados originais\n",
    "X_oring_train, X_orig_test, y_orig_train, y_orig_test = train_test_split(X_orig,\n",
    "                      Y_orig, test_size=0.25, stratify=Y_orig,random_state=10)\n",
    "\n",
    "# com os dados tratados\n",
    "X_train, X_test, y_train, y_test = train_test_split(X, Y, test_size=0.25,\n",
    "                                                    stratify=Y,random_state=10)"
   ]
  },
  {
   "cell_type": "markdown",
   "metadata": {
    "id": "UsF5IaEU49xG"
   },
   "source": [
    "Treina o modelo com base nos dados originais (SVM)."
   ]
  },
  {
   "cell_type": "code",
   "execution_count": 136,
   "metadata": {
    "colab": {
     "base_uri": "https://localhost:8080/"
    },
    "id": "1xyxTe-q49T_",
    "outputId": "3323ca47-fbc4-4eed-ccfe-0f3eeccf3a31"
   },
   "outputs": [
    {
     "name": "stdout",
     "output_type": "stream",
     "text": [
      "Matriz de confusão - com os dados ORIGINAIS usados no TREINAMENTO\n",
      "[[   1    0    3   11    0    0    0]\n",
      " [   0    0    6  116    0    0    0]\n",
      " [   0    0   92 1001    0    0    0]\n",
      " [   0    0   93 1555    0    0    0]\n",
      " [   0    0    7  653    0    0    0]\n",
      " [   0    0    3  128    0    0    0]\n",
      " [   0    0    0    4    0    0    0]]\n",
      "              precision    recall  f1-score   support\n",
      "\n",
      "           3       1.00      0.07      0.12        15\n",
      "           4       0.00      0.00      0.00       122\n",
      "           5       0.45      0.08      0.14      1093\n",
      "           6       0.45      0.94      0.61      1648\n",
      "           7       0.00      0.00      0.00       660\n",
      "           8       0.00      0.00      0.00       131\n",
      "           9       0.00      0.00      0.00         4\n",
      "\n",
      "    accuracy                           0.45      3673\n",
      "   macro avg       0.27      0.16      0.12      3673\n",
      "weighted avg       0.34      0.45      0.32      3673\n",
      "\n",
      "Matriz de confusão - com os dados ORIGINAIS usados para TESTES\n",
      "[[  0   0   0   5   0   0   0]\n",
      " [  0   0   1  40   0   0   0]\n",
      " [  0   0  25 339   0   0   0]\n",
      " [  0   0  24 526   0   0   0]\n",
      " [  0   0   3 217   0   0   0]\n",
      " [  0   0   3  41   0   0   0]\n",
      " [  0   0   0   1   0   0   0]]\n",
      "              precision    recall  f1-score   support\n",
      "\n",
      "           3       0.00      0.00      0.00         5\n",
      "           4       0.00      0.00      0.00        41\n",
      "           5       0.45      0.07      0.12       364\n",
      "           6       0.45      0.96      0.61       550\n",
      "           7       0.00      0.00      0.00       220\n",
      "           8       0.00      0.00      0.00        44\n",
      "           9       0.00      0.00      0.00         1\n",
      "\n",
      "    accuracy                           0.45      1225\n",
      "   macro avg       0.13      0.15      0.10      1225\n",
      "weighted avg       0.33      0.45      0.31      1225\n",
      "\n"
     ]
    }
   ],
   "source": [
    "\n",
    "from sklearn import svm\n",
    "from sklearn.metrics import confusion_matrix\n",
    "from sklearn.metrics import classification_report\n",
    "\n",
    "treinador = svm.SVC()  #algoritmo escolhido\n",
    "\n",
    "modelo_orig = treinador.fit(X_oring_train, y_orig_train)\n",
    "\n",
    "# predição com os mesmos dados usados para treinar\n",
    "y_orig_pred = modelo_orig.predict(X_oring_train)\n",
    "cm_orig_train = confusion_matrix(y_orig_train, y_orig_pred)\n",
    "print('Matriz de confusão - com os dados ORIGINAIS usados no TREINAMENTO')\n",
    "print(cm_orig_train)\n",
    "print(classification_report(y_orig_train, y_orig_pred, zero_division=0))\n",
    "\n",
    "# predição com os mesmos dados usados para testar\n",
    "print('Matriz de confusão - com os dados ORIGINAIS usados para TESTES')\n",
    "y2_orig_pred = modelo_orig.predict(X_orig_test)\n",
    "cm_orig_test = confusion_matrix(y_orig_test, y2_orig_pred)\n",
    "print(cm_orig_test)\n",
    "print(classification_report(y_orig_test, y2_orig_pred, zero_division=0))\n"
   ]
  },
  {
   "cell_type": "markdown",
   "metadata": {
    "id": "2PdacgFz9mX3"
   },
   "source": [
    "Como os dados ficam após os processos de tratamento dos dados?"
   ]
  },
  {
   "cell_type": "code",
   "execution_count": 137,
   "metadata": {
    "colab": {
     "base_uri": "https://localhost:8080/"
    },
    "id": "mOeKrnRB9rU_",
    "outputId": "2518d42b-23f3-43c4-b490-33a0c72a7eb3"
   },
   "outputs": [
    {
     "name": "stdout",
     "output_type": "stream",
     "text": [
      "Matriz de confusão - com os dados TRATADOS usados no TREINAMENTO\n",
      "[[   3   50   35    1    0]\n",
      " [   0  487  299    3    0]\n",
      " [   0  194 1009   43    0]\n",
      " [   0   13  350  137    0]\n",
      " [   0    1   61   29    0]]\n",
      "              precision    recall  f1-score   support\n",
      "\n",
      "           4       1.00      0.03      0.07        89\n",
      "           5       0.65      0.62      0.63       789\n",
      "           6       0.58      0.81      0.67      1246\n",
      "           7       0.64      0.27      0.38       500\n",
      "           8       0.00      0.00      0.00        91\n",
      "\n",
      "    accuracy                           0.60      2715\n",
      "   macro avg       0.57      0.35      0.35      2715\n",
      "weighted avg       0.61      0.60      0.57      2715\n",
      "\n",
      "Matriz de confusão - com os dados ORIGINAIS usados para TESTES\n",
      "[[  1  20   8   0   0]\n",
      " [  0 149 114   0   0]\n",
      " [  0  77 317  21   0]\n",
      " [  0   6 129  32   0]\n",
      " [  0   0  19  12   0]]\n",
      "              precision    recall  f1-score   support\n",
      "\n",
      "           4       1.00      0.03      0.07        29\n",
      "           5       0.59      0.57      0.58       263\n",
      "           6       0.54      0.76      0.63       415\n",
      "           7       0.49      0.19      0.28       167\n",
      "           8       0.00      0.00      0.00        31\n",
      "\n",
      "    accuracy                           0.55       905\n",
      "   macro avg       0.52      0.31      0.31       905\n",
      "weighted avg       0.54      0.55      0.51       905\n",
      "\n"
     ]
    }
   ],
   "source": [
    "from sklearn import svm\n",
    "from sklearn.metrics import confusion_matrix\n",
    "from sklearn.metrics import classification_report\n",
    "\n",
    "treinador = svm.SVC()  #algoritmo escolhido\n",
    "\n",
    "modelo = treinador.fit(X_train, y_train)\n",
    "\n",
    "# predição com os mesmos dados usados para treinar\n",
    "y_pred = modelo.predict(X_train)\n",
    "cm_train = confusion_matrix(y_train, y_pred)\n",
    "print('Matriz de confusão - com os dados TRATADOS usados no TREINAMENTO')\n",
    "print(cm_train)\n",
    "print(classification_report(y_train, y_pred, zero_division=0))\n",
    "\n",
    "# predição com os mesmos dados usados para testar\n",
    "print('Matriz de confusão - com os dados ORIGINAIS usados para TESTES')\n",
    "y2_pred = modelo.predict(X_test)\n",
    "cm_test = confusion_matrix(y_test, y2_pred)\n",
    "print(cm_test)\n",
    "print(classification_report(y_test, y2_pred, zero_division=0))\n"
   ]
  },
  {
   "cell_type": "code",
   "execution_count": null,
   "metadata": {},
   "outputs": [],
   "source": []
  }
 ],
 "metadata": {
  "colab": {
   "provenance": []
  },
  "kernelspec": {
   "display_name": "Python 3 (ipykernel)",
   "language": "python",
   "name": "python3"
  },
  "language_info": {
   "codemirror_mode": {
    "name": "ipython",
    "version": 3
   },
   "file_extension": ".py",
   "mimetype": "text/x-python",
   "name": "python",
   "nbconvert_exporter": "python",
   "pygments_lexer": "ipython3",
   "version": "3.11.0"
  }
 },
 "nbformat": 4,
 "nbformat_minor": 4
}
